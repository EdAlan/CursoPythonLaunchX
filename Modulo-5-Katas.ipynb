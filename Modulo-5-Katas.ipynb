{
 "cells": [
  {
   "cell_type": "markdown",
   "metadata": {},
   "source": [
    "## Modulo 5 - Katas"
   ]
  },
  {
   "cell_type": "code",
   "execution_count": 4,
   "metadata": {},
   "outputs": [
    {
     "name": "stdout",
     "output_type": "stream",
     "text": [
      "628949330\n",
      "390577533.93\n"
     ]
    }
   ],
   "source": [
    "# Declaracion de distancias\n",
    "distancia_tierra = 149597870\n",
    "distancia_jupiter = 778547200\n",
    "\n",
    "# Calculo de distancia entre dos planetas\n",
    "distancia_planetas_km = distancia_jupiter - distancia_tierra\n",
    "distancia_planetas_millas = distancia_planetas_km * 0.621\n",
    "print(distancia_planetas_km)\n",
    "print(distancia_planetas_millas)"
   ]
  },
  {
   "cell_type": "code",
   "execution_count": 3,
   "metadata": {},
   "outputs": [
    {
     "name": "stdout",
     "output_type": "stream",
     "text": [
      "628949330\n",
      "390577533.93\n"
     ]
    }
   ],
   "source": [
    "# Leer distancia de 2 planetas\n",
    "distancia1 = int(input(\"Digite la distancia de su primer planeta (En KM): \"))\n",
    "distancia2 = int(input(\"Digite la distancia de su segundo planeta (En KM): \"))\n",
    "\n",
    "distancia_km = abs(distancia1 - distancia2)\n",
    "distancia_millas = distancia_km * 0.621\n",
    "print(distancia_km)\n",
    "print(distancia_millas)"
   ]
  }
 ],
 "metadata": {
  "interpreter": {
   "hash": "57aae8d90db6fb4a74f52f670903db6909a5f4ce17e8cec6e7af5af5a6f75339"
  },
  "kernelspec": {
   "display_name": "Python 3.10.2 64-bit",
   "language": "python",
   "name": "python3"
  },
  "language_info": {
   "codemirror_mode": {
    "name": "ipython",
    "version": 3
   },
   "file_extension": ".py",
   "mimetype": "text/x-python",
   "name": "python",
   "nbconvert_exporter": "python",
   "pygments_lexer": "ipython3",
   "version": "3.10.2"
  },
  "orig_nbformat": 4
 },
 "nbformat": 4,
 "nbformat_minor": 2
}
