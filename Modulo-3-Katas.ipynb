{
 "cells": [
  {
   "cell_type": "markdown",
   "metadata": {},
   "source": [
    "## Modulo 3 - Katas"
   ]
  },
  {
   "cell_type": "code",
   "execution_count": null,
   "metadata": {},
   "outputs": [],
   "source": [
    "# Problema 1\n",
    "Velocidad_Advertencia = 25\n",
    "Velocidad_Indicada = 49\n",
    "if Velocidad_Indicada > Velocidad_Advertencia:\n",
    "    print(\"¡Alerta! ¡Un asteroide se acerca a velocidades peligrosas!\")\n",
    "else:\n",
    "    print(\"¡Falsa Alarma! ¡Feliz dia!\")"
   ]
  },
  {
   "cell_type": "code",
   "execution_count": null,
   "metadata": {},
   "outputs": [],
   "source": [
    "# Problema 2\n",
    "Velocidad_Advertencia = 20\n",
    "Velocidad_Indicada = 19\n",
    "if Velocidad_Indicada > 20:\n",
    "    print(\"¡Miren! ¡Hay una luz mágica en el cielo!\")\n",
    "elif Velocidad_Indicada == 20:\n",
    "    print(\"¡Miren! ¡Hay una luz mágica en el cielo!\")\n",
    "else:\n",
    "    print(\"¡Nada que ver aquí!\")"
   ]
  },
  {
   "cell_type": "code",
   "execution_count": null,
   "metadata": {},
   "outputs": [],
   "source": [
    "# Problema 3\n",
    "Velocidad_Asteroide = 25\n",
    "Tamano_Asteroide = 40\n",
    "if Velocidad_Asteroide > 25 and Tamano_Asteroide > 25 and Tamano_Asteroide < 1000:\n",
    "    print(\"Asteroide golpeara la tierra y causara mucho daño\")\n",
    "elif Velocidad_Asteroide >= 20:\n",
    "    print(\"¡Miren! ¡Hay una luz mágica en el cielo!\")\n",
    "elif Tamano_Asteroide < 25:\n",
    "    print(\"Asteroide se quemara al entrar a la tierra\")\n",
    "else:\n",
    "    print(\"¡Falsa Alarma! ¡Feliz dia!\")"
   ]
  }
 ],
 "metadata": {
  "interpreter": {
   "hash": "57aae8d90db6fb4a74f52f670903db6909a5f4ce17e8cec6e7af5af5a6f75339"
  },
  "kernelspec": {
   "display_name": "Python 3.10.2 64-bit",
   "language": "python",
   "name": "python3"
  },
  "language_info": {
   "codemirror_mode": {
    "name": "ipython",
    "version": 3
   },
   "file_extension": ".py",
   "mimetype": "text/x-python",
   "name": "python",
   "nbconvert_exporter": "python",
   "pygments_lexer": "ipython3",
   "version": "3.10.2"
  },
  "orig_nbformat": 4
 },
 "nbformat": 4,
 "nbformat_minor": 2
}
