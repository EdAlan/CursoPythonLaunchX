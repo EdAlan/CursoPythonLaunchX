{
 "cells": [
  {
   "cell_type": "markdown",
   "metadata": {},
   "source": [
    "## Modulo 7 - Katas"
   ]
  },
  {
   "cell_type": "code",
   "execution_count": null,
   "metadata": {},
   "outputs": [],
   "source": [
    "# Declaracion de variables\n",
    "new_planet = ''\n",
    "planets = []\n",
    "\n",
    "# Ciclo para guardar informacion en lista\n",
    "while new_planet != 'done':\n",
    "    if new_planet != '':\n",
    "        planets.append(new_planet)\n",
    "    new_planet = input('Enter a new planet: ')\n",
    "\n",
    "# Ciclo para imprimir la informacion de la lista\n",
    "for planet in planets:\n",
    "    print(planet)"
   ]
  }
 ],
 "metadata": {
  "interpreter": {
   "hash": "57aae8d90db6fb4a74f52f670903db6909a5f4ce17e8cec6e7af5af5a6f75339"
  },
  "kernelspec": {
   "display_name": "Python 3.10.2 64-bit",
   "language": "python",
   "name": "python3"
  },
  "language_info": {
   "codemirror_mode": {
    "name": "ipython",
    "version": 3
   },
   "file_extension": ".py",
   "mimetype": "text/x-python",
   "name": "python",
   "nbconvert_exporter": "python",
   "pygments_lexer": "ipython3",
   "version": "3.10.2"
  },
  "orig_nbformat": 4
 },
 "nbformat": 4,
 "nbformat_minor": 2
}
