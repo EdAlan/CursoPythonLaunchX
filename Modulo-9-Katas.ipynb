{
 "cells": [
  {
   "cell_type": "markdown",
   "metadata": {},
   "source": [
    "## Modulo 9 - Katas"
   ]
  },
  {
   "cell_type": "code",
   "execution_count": null,
   "metadata": {},
   "outputs": [],
   "source": [
    "def lectura_combustible(tanque1, tanque2, tanque3):\n",
    "    total_combustible = (tanque1 + tanque2 + tanque3) / 3\n",
    "    return f\"\"\"El informe de combustible total es: {total_combustible}%\n",
    "    El primer tanque de combustible tiene una capacidad de: {tanque1}%\n",
    "    El segundo tanque de combustible tiene una capacidad de: {tanque2}%\n",
    "    El tercer tanque de combustible tiene una capacidad de: {tanque3}%\"\"\"\n",
    "print(lectura_combustible(67,43,50))"
   ]
  },
  {
   "cell_type": "code",
   "execution_count": null,
   "metadata": {},
   "outputs": [],
   "source": [
    "def calculo_promedio(lista_valores):\n",
    "    suma_valores = sum(lista_valores)\n",
    "    numero_valores = len(lista_valores)\n",
    "    promedio_valores = suma_valores / numero_valores\n",
    "    return promedio_valores\n",
    "\n",
    "def lectura_combustible(tanque1, tanque2, tanque3):\n",
    "    return f\"\"\"El informe de combustible total es: {calculo_promedio([tanque1, tanque2, tanque3])}%\n",
    "    El primer tanque de combustible tiene una capacidad de: {tanque1}%\n",
    "    El segundo tanque de combustible tiene una capacidad de: {tanque2}%\n",
    "    El tercer tanque de combustible tiene una capacidad de: {tanque3}%\"\"\"\n",
    "\n",
    "print(lectura_combustible(40,45,60))"
   ]
  },
  {
   "cell_type": "code",
   "execution_count": null,
   "metadata": {},
   "outputs": [],
   "source": [
    "def informe_mision(hora_prelanzamiento, tiempo_vuelo, destino, tanque_ext, tanque_int):\n",
    "    return f\"\"\"El informe vuelo de prelanzamiento es: {hora_prelanzamiento}\n",
    "    El tiempo de vuelo es: {tiempo_vuelo}\n",
    "    El destino es: {destino}\n",
    "    El tanque externo tiene: {tanque_ext}\n",
    "    El tanque interno tiene: {tanque_int}\n",
    "    \"\"\"\n",
    "\n",
    "print(informe_mision(14, 51, \"Moon\", 200000, 300000))"
   ]
  },
  {
   "cell_type": "code",
   "execution_count": null,
   "metadata": {},
   "outputs": [],
   "source": [
    "def informe_mision(destino, *tiempo, **tanques):\n",
    "    return f\"\"\"\n",
    "    El destino es: {destino}\n",
    "    Tiempo total de viaje: {sum(tiempo)} minutos\n",
    "    Total de combustible: {sum(tanques.values())}\n",
    "    \"\"\"\n",
    "\n",
    "print(informe_mision(\"Moon\", 10, 15, 51, main=300000, external=200000))"
   ]
  },
  {
   "cell_type": "code",
   "execution_count": null,
   "metadata": {},
   "outputs": [],
   "source": [
    "def informe_mision(destino, *tiempo, **tanques):\n",
    "    mensaje = f\"\"\"\n",
    "    El destino es: {destino}\n",
    "    Tiempo total de viaje: {sum(tiempo)} minutos\n",
    "    Total de combustible: {sum(tanques.values())}\n",
    "    \"\"\"\n",
    "\n",
    "    for nombre_tanque, litros in tanques.items():\n",
    "        mensaje += f\"{nombre_tanque} tanque --> {litros} litros\\n\"\n",
    "    return mensaje\n",
    "\n",
    "print(informe_mision(\"Moon\", 10, 15, 51, principal=300000, externo=200000))"
   ]
  }
 ],
 "metadata": {
  "interpreter": {
   "hash": "57aae8d90db6fb4a74f52f670903db6909a5f4ce17e8cec6e7af5af5a6f75339"
  },
  "kernelspec": {
   "display_name": "Python 3.10.2 64-bit",
   "language": "python",
   "name": "python3"
  },
  "language_info": {
   "codemirror_mode": {
    "name": "ipython",
    "version": 3
   },
   "file_extension": ".py",
   "mimetype": "text/x-python",
   "name": "python",
   "nbconvert_exporter": "python",
   "pygments_lexer": "ipython3",
   "version": "3.10.2"
  },
  "orig_nbformat": 4
 },
 "nbformat": 4,
 "nbformat_minor": 2
}
