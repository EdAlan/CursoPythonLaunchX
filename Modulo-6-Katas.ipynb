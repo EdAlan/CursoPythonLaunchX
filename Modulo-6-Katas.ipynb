{
 "cells": [
  {
   "cell_type": "markdown",
   "metadata": {},
   "source": [
    "## Modulo 6 - Katas"
   ]
  },
  {
   "cell_type": "code",
   "execution_count": null,
   "metadata": {},
   "outputs": [],
   "source": [
    "# Declaracion de lista\n",
    "planetas = ['Mercurio', 'Venus', 'Tierra', 'Marte', 'Jupiter', 'Saturno', 'Urano', 'Neptuno']\n",
    "numero_planetas = len(planetas)\n",
    "print('Los ', numero_planetas, ' del sistema solar son: ', planetas)\n",
    "\n",
    "# Agregar planeta pluton y mostrar el utlimo elemento de la lista\n",
    "planetas.append('Pluton')\n",
    "numero_planetas = len(planetas)\n",
    "print('Anteriormente eran ', numero_planetas, ' planetas en el sistema solar, siendo el ultimo', planetas[-1])"
   ]
  },
  {
   "cell_type": "code",
   "execution_count": 12,
   "metadata": {},
   "outputs": [
    {
     "name": "stdout",
     "output_type": "stream",
     "text": [
      "Los planetas mas cercanos al sol a partir de Jupiter son: ['Mercurio', 'Venus', 'Tierra', 'Marte']\n",
      "Los planetas mas alejados del sol a partir de Jupiter son: ['Saturno', 'Urano', 'Neptuno']\n"
     ]
    }
   ],
   "source": [
    "# Declaracion de lista\n",
    "planetas = ['Mercurio', 'Venus', 'Tierra', 'Marte', 'Jupiter', 'Saturno', 'Urano', 'Neptuno']\n",
    "planeta_buscar = input('Introduzca el planeta a buscar (Favor de colocar la primera letra mayuscula):')\n",
    "print('Los planetas mas cercanos al sol a partir de', planeta_buscar, 'son:', planetas[0:planetas.index(planeta_buscar)])\n",
    "print('Los planetas mas alejados del sol a partir de', planeta_buscar, 'son:', planetas[planetas.index(planeta_buscar) + 1:])"
   ]
  }
 ],
 "metadata": {
  "interpreter": {
   "hash": "57aae8d90db6fb4a74f52f670903db6909a5f4ce17e8cec6e7af5af5a6f75339"
  },
  "kernelspec": {
   "display_name": "Python 3.10.2 64-bit",
   "language": "python",
   "name": "python3"
  },
  "language_info": {
   "codemirror_mode": {
    "name": "ipython",
    "version": 3
   },
   "file_extension": ".py",
   "mimetype": "text/x-python",
   "name": "python",
   "nbconvert_exporter": "python",
   "pygments_lexer": "ipython3",
   "version": "3.10.2"
  },
  "orig_nbformat": 4
 },
 "nbformat": 4,
 "nbformat_minor": 2
}
