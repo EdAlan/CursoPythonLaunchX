{
 "cells": [
  {
   "cell_type": "markdown",
   "metadata": {},
   "source": [
    "## Modulo 4 - Documentacion\n",
    "Lección - Cadenas en Python\n"
   ]
  },
  {
   "cell_type": "code",
   "execution_count": null,
   "metadata": {},
   "outputs": [],
   "source": [
    "# Cadenas no cambian, solo se concatenan y generan nuevas cadenas\n",
    "fact = 'The Moon has no atmosphere.'\n",
    "fact + 'No sound can be heard on the Moon.'\n",
    "two_facts = fact + 'No sound can be heard on the Moon.'\n",
    "two_facts"
   ]
  },
  {
   "cell_type": "code",
   "execution_count": null,
   "metadata": {},
   "outputs": [],
   "source": [
    "# Se pueden usar comillas simples, dobles o incluso triples\n",
    "Frase = \"\"\"We only see about 60% of the Moon's surface, this is known as the \"near side\".\"\"\""
   ]
  },
  {
   "cell_type": "code",
   "execution_count": null,
   "metadata": {},
   "outputs": [],
   "source": [
    "# Existe la multilinea con \\n o triple comilla\n",
    "multiline = \"Facts about the Moon:\\n There is no atmosphere.\\n There is no sound.\"\n",
    "print(multiline)\n",
    "multilinea = \"\"\"Facts about the Moon:\n",
    "...  There is no atmosphere.\n",
    "...  There is no sound.\"\"\"\n",
    "print(multilinea)"
   ]
  },
  {
   "cell_type": "code",
   "execution_count": null,
   "metadata": {},
   "outputs": [],
   "source": [
    "# Existen metodos para trabajar con cadenas por ejemplo para mayusculas en cada palabra\n",
    "'temperatures and facts about the moon'.title()\n",
    "# Tambien se puede usar esta forma\n",
    "heading = 'temperatures and facts about the moon'\n",
    "heading.title()"
   ]
  },
  {
   "cell_type": "code",
   "execution_count": null,
   "metadata": {},
   "outputs": [],
   "source": [
    "# Existen metodos para trabajar con cadenas por ejemplo separar palabras por cada espacio sin argumentos y \n",
    "# con argumento permite definir con que caracter separarla\n",
    "temperatures = '''Daylight: 260 F\n",
    "... Nighttime: -280 F'''\n",
    "temperatures .split()\n",
    "temperatures .split('\\n')"
   ]
  },
  {
   "cell_type": "code",
   "execution_count": null,
   "metadata": {},
   "outputs": [],
   "source": [
    "# El metodo find encuentra una cadena y devuelve la posicion en la que se encontro y -1 si no la encontro\n",
    "temperatures = \"\"\"Saturn has a daytime temperature of -170 degrees Celsius,\n",
    "... while Mars has -28 Celsius.\"\"\"\n",
    "temperatures.find('Moon')\n",
    "# El metodo count nos devuelve el numero de veces que se encontro la cadena\n",
    "temperatures.count('Mars')\n",
    "# El metodo lower sirve para convertir cadena en minusculas y upper para mayusculas\n",
    "\"The Moon And The Earth\".lower()\n",
    "'The Moon And The Earth'.upper()"
   ]
  },
  {
   "cell_type": "code",
   "execution_count": null,
   "metadata": {},
   "outputs": [],
   "source": [
    "# El metodo is numeric devuelve una cadena que solo tenga numeros\n",
    "mars_temperature = 'The highest temperature on Mars is about 30 C'\n",
    "for item in mars_temperature.split():\n",
    "    if item.isnumeric():\n",
    "        print(item)\n",
    "# Tambien existe el metodo para decimales\n",
    "item.isdecimal()\n",
    "# El metodo startswith devuelve verdadero o falso si detecta el caracter al inicio de la cadena\n",
    "'-60'.startswith('-')\n",
    "# El metodo endswith devuelve verdadero o falso si detecta el caracter al final de la cadena\n",
    "if \"30 C\".endswith(\"C\"):\n",
    "    print(\"This temperature is in Celsius\")"
   ]
  },
  {
   "cell_type": "code",
   "execution_count": null,
   "metadata": {},
   "outputs": [],
   "source": [
    "# Transformacion de texto\n",
    "# Metodo de reemplazo replace\n",
    "'Saturn has a daytime temperature of -170 degrees Celsius, while Mars has -28 Celsius.'.replace('Celsius', 'C')\n",
    "# Metodo join sirve para unir cadenas\n",
    "moon_facts = ['The Moon is drifting away from the Earth.', 'On average, the Moon is moving about 4cm every year']\n",
    "'\\n'.join(moon_facts)\n",
    "# Formato para variable\n",
    "mass_percentage = '1/6'\n",
    "print('On the Moon, you would weigh about %s of your weight on Earth' % mass_percentage)\n",
    "# Formato para multiples insersiones\n",
    "print(\"\"\"Both sides of the %s get the same amount of sunlight,\n",
    "    but only one side is seen from %s because\n",
    "    the %s rotates around its own axis when it orbits %s.\"\"\" % ('Moon', 'Earth', 'Moon', 'Earth'))\n",
    "# Tambien existe el metodo FORMAT\n",
    "mass_percentage = '1/6'\n",
    "print('On the Moon, you would weigh about {} of your weight on Earth'.format(mass_percentage))\n",
    "# Se puede usar para multiples variables\n",
    "print(\"\"\"You are lighter on the {0}, because on the {0} \n",
    "... you would weigh about {1} of your weight on Earth\"\"\".format(\"Moon\", mass_percentage))\n",
    "# Se pueden definir palabra clave\n",
    "print(\"\"\"You are lighter on the {moon}, because on the {moon} \n",
    "... you would weigh about {mass} of your weight on Earth\"\"\".format(moon=\"Moon\", mass=mass_percentage))"
   ]
  },
  {
   "cell_type": "code",
   "execution_count": 3,
   "metadata": {},
   "outputs": [
    {
     "name": "stdout",
     "output_type": "stream",
     "text": [
      "On the Moon, you would weigh about 1/6 of your weight on Earth\n",
      "On the Moon, you would weigh about 16.7% of your weight on Earth\n"
     ]
    },
    {
     "data": {
      "text/plain": [
       "'Interesting Facts About The Moon'"
      ]
     },
     "execution_count": 3,
     "metadata": {},
     "output_type": "execute_result"
    }
   ],
   "source": [
    "# Cadenas F\n",
    "mass_percentage = '1/6'\n",
    "print(f'On the Moon, you would weigh about {mass_percentage} of your weight on Earth')\n",
    "# Para representar en porcentaje se usa funcion round\n",
    "round(100/6, 1)\n",
    "print(f'On the Moon, you would weigh about {round(100/6, 1)}% of your weight on Earth')\n",
    "subject = 'interesting facts about the moon'\n",
    "f'{subject.title()}'"
   ]
  }
 ],
 "metadata": {
  "interpreter": {
   "hash": "57aae8d90db6fb4a74f52f670903db6909a5f4ce17e8cec6e7af5af5a6f75339"
  },
  "kernelspec": {
   "display_name": "Python 3.10.2 64-bit",
   "language": "python",
   "name": "python3"
  },
  "language_info": {
   "codemirror_mode": {
    "name": "ipython",
    "version": 3
   },
   "file_extension": ".py",
   "mimetype": "text/x-python",
   "name": "python",
   "nbconvert_exporter": "python",
   "pygments_lexer": "ipython3",
   "version": "3.10.2"
  },
  "orig_nbformat": 4
 },
 "nbformat": 4,
 "nbformat_minor": 2
}
